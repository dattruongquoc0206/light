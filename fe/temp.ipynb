{
 "cells": [
  {
   "cell_type": "code",
   "execution_count": 1,
   "id": "b8c26c19",
   "metadata": {},
   "outputs": [],
   "source": [
    "import requests "
   ]
  },
  {
   "cell_type": "code",
   "execution_count": 4,
   "id": "fb3c39b2",
   "metadata": {},
   "outputs": [],
   "source": [
    "url = \"http://localhost:8000/hello\""
   ]
  },
  {
   "cell_type": "code",
   "execution_count": 5,
   "id": "68d664ea",
   "metadata": {},
   "outputs": [
    {
     "name": "stdout",
     "output_type": "stream",
     "text": [
      "{\"message\":\"Xin chào John\"}\n"
     ]
    }
   ],
   "source": [
    "payload = {\n",
    "    \"name\": \"John\",\n",
    "}\n",
    "reponse = requests.post(url, json=payload)\n",
    "print(reponse.text)"
   ]
  },
  {
   "cell_type": "code",
   "execution_count": null,
   "id": "1d3215a3",
   "metadata": {},
   "outputs": [],
   "source": []
  }
 ],
 "metadata": {
  "kernelspec": {
   "display_name": "Python 3",
   "language": "python",
   "name": "python3"
  },
  "language_info": {
   "codemirror_mode": {
    "name": "ipython",
    "version": 3
   },
   "file_extension": ".py",
   "mimetype": "text/x-python",
   "name": "python",
   "nbconvert_exporter": "python",
   "pygments_lexer": "ipython3",
   "version": "3.12.6"
  }
 },
 "nbformat": 4,
 "nbformat_minor": 5
}
